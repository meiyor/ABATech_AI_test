{
 "cells": [
  {
   "cell_type": "code",
   "execution_count": null,
   "id": "9d410a11",
   "metadata": {},
   "outputs": [],
   "source": [
    "## loading libraries and packages\n",
    "from sklearn.model_selection import KFold\n",
    "from sklearn.preprocessing import MinMaxScaler\n",
    "from sklearn.preprocessing import RobustScaler\n",
    "from sklearn.neural_network import MLPClassifier\n",
    "from sklearn.metrics import accuracy_score\n",
    "from matplotlib import pyplot\n",
    "import matplotlib.pyplot as plt\n",
    "from sklearn.metrics import RocCurveDisplay\n",
    "import numpy as np\n",
    "import sys\n",
    "import pandas as pd\n",
    "from signal import signal, SIGPIPE, SIG_DFL\n",
    "signal(SIGPIPE,SIG_DFL)"
   ]
  },
  {
   "cell_type": "code",
   "execution_count": null,
   "id": "b26ef06b",
   "metadata": {},
   "outputs": [],
   "source": [
    "data=[]\n",
    "## read csv file\n",
    "dataframeObject = pd.DataFrame(pd.read_csv(str(sys.argv[1])))## add the name of the .csv file\n",
    "\n",
    "## assigning the features names and putting them in a list generate the dummy features as EDA\n",
    "features=list(dataframeObject.columns.values)\n",
    "\n",
    "for index in range(1,len(features)):\n",
    "    index_feature=features[index]\n",
    "    dataframeObject[[index_feature]].replace(np.nan,0)\n",
    "    data.append(dataframeObject[[index_feature]].to_numpy())\n",
    "\n",
    "data=np.squeeze(np.array(data))\n",
    "shape=np.shape(data)"
   ]
  },
  {
   "cell_type": "code",
   "execution_count": null,
   "id": "1bccd81a",
   "metadata": {},
   "outputs": [],
   "source": [
    "## convert all strings in integer values for integrating the features\n",
    "for count in range(0,shape[0]):\n",
    "  possibilities=[]\n",
    "  data_temp=[]\n",
    "  if isinstance(data[count,0],str):\n",
    "    for in_count in range(0,shape[1]):\n",
    "       if not(data[count,in_count] in possibilities):\n",
    "          possibilities.append(data[count,in_count])\n",
    "       index_val = int(possibilities.index(data[count,in_count]))\n",
    "       data_temp.append(index_val)\n",
    "    data[count,:]=np.array(data_temp)\n",
    "\n",
    "shape=np.shape(data)\n"
   ]
  },
  {
   "cell_type": "code",
   "execution_count": null,
   "id": "1d7195b8",
   "metadata": {},
   "outputs": [],
   "source": [
    "## data definition\n",
    "DATA=np.transpose(data[0:22,:])\n",
    "labels=data[22,:]\n",
    "\n",
    "shape=np.shape(DATA)\n",
    "##definition of crossvalidation\n",
    "kf = KFold(n_splits=int(sys.argv[2]))\n",
    "kf.get_n_splits(DATA)\n",
    "acc=np.zeros([int(sys.argv[2])])\n",
    "\n",
    "KFold(n_splits=int(sys.argv[2]), random_state=None, shuffle=False)\n",
    "\n",
    "## plotting parameter setting defining as 1 \n",
    "if int(sys.argv[3])==1:\n",
    "    plt.ion()\n",
    "    plt.show()"
   ]
  },
  {
   "cell_type": "code",
   "execution_count": null,
   "id": "bf3d5678",
   "metadata": {},
   "outputs": [],
   "source": [
    "for i, (train_index, test_index) in enumerate(kf.split(DATA)):\n",
    "        np.random.seed(1234)\n",
    "        print(f\":Fold {i}:\")\n",
    "        #print(f\"  Train: index={train_index}\")\n",
    "        #print(f\"  Test:  index={test_index}\")\n",
    "        #D=DATA[train_index,:].astype(float)\n",
    "        t = RobustScaler()\n",
    "        t.fit(DATA[train_index,:].astype(float))\n",
    "        DATA[train_index,:] = t.transform(DATA[train_index,:].astype(float))\n",
    "        DATA[test_index,:] = t.transform(DATA[test_index,:].astype(float))\n",
    "        # define the model\n",
    "        DATA_train=DATA[train_index,:]\n",
    "        DATA_test=DATA[test_index,:]\n",
    "        model = MLPClassifier(solver='adam', alpha=1e-5, hidden_layer_sizes=(10,5),learning_rate='invscaling', random_state=1234)\n",
    "        model.t=20 ## iterations for invscaling\n",
    "        model.out_activation_='softmax' ## define the output as softmax\n",
    "        # fit the model on the training set\n",
    "        model.fit(DATA_train, labels[train_index].astype('int'))\n",
    "        # make predictions on the test set\n",
    "        predictions = model.predict(DATA_test)\n",
    "        # calculate classification accuracy\n",
    "        acc[i] = accuracy_score(labels[test_index].astype('int'), predictions)\n",
    "        print(acc[i]) \n",
    "        if int(sys.argv[3])==1:\n",
    "            RocCurveDisplay.from_estimator(model, DATA_test, labels[test_index].astype('int'))\n",
    "            plt.draw()\n",
    "            plt.pause(0.001)\n",
    "            input(\"Press [enter] to continue.\")\n",
    "acc_mean=np.mean(acc)\n",
    "acc_std=np.std(acc)"
   ]
  }
 ],
 "metadata": {
  "kernelspec": {
   "display_name": "Python 3 (ipykernel)",
   "language": "python",
   "name": "python3"
  },
  "language_info": {
   "codemirror_mode": {
    "name": "ipython",
    "version": 3
   },
   "file_extension": ".py",
   "mimetype": "text/x-python",
   "name": "python",
   "nbconvert_exporter": "python",
   "pygments_lexer": "ipython3",
   "version": "3.10.9"
  }
 },
 "nbformat": 4,
 "nbformat_minor": 5
}
